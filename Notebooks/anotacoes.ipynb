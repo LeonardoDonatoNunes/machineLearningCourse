{
 "cells": [
  {
   "cell_type": "markdown",
   "metadata": {},
   "source": [
    "# Programa de cursos integrados Aprendizado de máquina"
   ]
  },
  {
   "cell_type": "markdown",
   "metadata": {},
   "source": [
    "## Cusro 1. Aprendizado de máquina supervisionado: Regressão e classificação"
   ]
  },
  {
   "cell_type": "markdown",
   "metadata": {},
   "source": [
    "### Semana 1. Introdução ao aprendizado de maquina"
   ]
  },
  {
   "cell_type": "markdown",
   "metadata": {},
   "source": [
    "__Machine Learning__ - Campo de estudo que dá aos computadores a habilidade de aprender sem que sejam explicitamente programados\n",
    "\n",
    "    Arthur Samuel (1959)\n",
    "\n",
    "### Principais tipos de algoritimos\n",
    "\n",
    " - Aprendizado supervisionado\n",
    "\n",
    "    Para o treinamento de um modelo supervisionado é usado um conjunto de dados que possui a variável de interesse, ou variável resposta.\n",
    "\n",
    "        - Classsificação: Prediz categorias\n",
    "\n",
    "        - Regressão: Prediz um número\n",
    "\n",
    " - Aprendizado não supervisionado"
   ]
  },
  {
   "cell_type": "markdown",
   "metadata": {},
   "source": [
    "### Semana 2 - Regressão linear múltipla"
   ]
  },
  {
   "cell_type": "markdown",
   "metadata": {},
   "source": [
    "#### Vetorização\n",
    "\n",
    "Quando for implementado um algoritmo de machine learning, uysando vetorização, o código será menor e muito mais eficiente. Ao usar codigo vetorizado irá permitir tirar vantagem de modernas bibliotecas numéricas de álgebra linear, e também ter a  possibilidade de usar processamento em GPU. Abaixo será apresentado três maneiras de implementar o algorítmo de regressão linear múltipla. Duas formas não vetorizadas e uma forma vetorizada."
   ]
  },
  {
   "cell_type": "code",
   "execution_count": 3,
   "metadata": {},
   "outputs": [],
   "source": [
    "import numpy as np"
   ]
  },
  {
   "cell_type": "code",
   "execution_count": 4,
   "metadata": {},
   "outputs": [],
   "source": [
    "w = np.array([1.0,2.5,-3.3])\n",
    "b = 4\n",
    "x = np.array([10,20,30])"
   ]
  },
  {
   "cell_type": "markdown",
   "metadata": {},
   "source": [
    "Exemplos sem vetorização"
   ]
  },
  {
   "cell_type": "code",
   "execution_count": 5,
   "metadata": {},
   "outputs": [
    {
     "name": "stdout",
     "output_type": "stream",
     "text": [
      "Resultado da função de regressão linear múltipla: -35.0\n"
     ]
    }
   ],
   "source": [
    "f = w[0]*x[0] + w[1]*x[1] + w[2]*x[2] + b\n",
    "print(f\"Resultado da função de regressão linear múltipla: {f}\")"
   ]
  },
  {
   "cell_type": "code",
   "execution_count": 8,
   "metadata": {},
   "outputs": [
    {
     "name": "stdout",
     "output_type": "stream",
     "text": [
      "Resultado da função de regressão linear múltipla: -35.0\n"
     ]
    }
   ],
   "source": [
    "f = 0\n",
    "for j in range(0,len(w)):\n",
    "    f = f + w[j] * x[j]\n",
    "\n",
    "f = f + b\n",
    "print(f\"Resultado da função de regressão linear múltipla: {f}\")"
   ]
  },
  {
   "cell_type": "markdown",
   "metadata": {},
   "source": [
    "Exemplo com vetorização"
   ]
  },
  {
   "cell_type": "code",
   "execution_count": 10,
   "metadata": {},
   "outputs": [
    {
     "name": "stdout",
     "output_type": "stream",
     "text": [
      "Resultado da função de regressão linear múltipla: -34.99999999999999\n"
     ]
    }
   ],
   "source": [
    "f = np.dot(w,x) + b\n",
    "print(f\"Resultado da função de regressão linear múltipla: {f}\")"
   ]
  }
 ],
 "metadata": {
  "kernelspec": {
   "display_name": "Python 3",
   "language": "python",
   "name": "python3"
  },
  "language_info": {
   "codemirror_mode": {
    "name": "ipython",
    "version": 3
   },
   "file_extension": ".py",
   "mimetype": "text/x-python",
   "name": "python",
   "nbconvert_exporter": "python",
   "pygments_lexer": "ipython3",
   "version": "3.12.0"
  }
 },
 "nbformat": 4,
 "nbformat_minor": 2
}
