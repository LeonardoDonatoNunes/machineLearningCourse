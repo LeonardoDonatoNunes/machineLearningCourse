{
 "cells": [
  {
   "cell_type": "markdown",
   "metadata": {},
   "source": [
    "# Programa de cursos integrados Aprendizado de máquina"
   ]
  },
  {
   "cell_type": "markdown",
   "metadata": {},
   "source": [
    "## Cusro 1. Aprendizado de máquina supervisionado: Regressão e classificação"
   ]
  },
  {
   "cell_type": "markdown",
   "metadata": {},
   "source": [
    "### Semana 1. Introdução ao aprendizado de maquina"
   ]
  },
  {
   "cell_type": "markdown",
   "metadata": {},
   "source": [
    "__Machine Learning__ - Campo de estudo que dá aos computadores a habilidade de aprender sem que sejam explicitamente programados\n",
    "\n",
    "    Arthur Samuel (1959)\n",
    "\n",
    "### Principais tipos de algoritimos\n",
    "\n",
    " - Aprendizado supervisionado\n",
    "\n",
    " - Aprendizado não supervisionado"
   ]
  }
 ],
 "metadata": {
  "kernelspec": {
   "display_name": "Python 3",
   "language": "python",
   "name": "python3"
  },
  "language_info": {
   "name": "python",
   "version": "3.12.0"
  }
 },
 "nbformat": 4,
 "nbformat_minor": 2
}
